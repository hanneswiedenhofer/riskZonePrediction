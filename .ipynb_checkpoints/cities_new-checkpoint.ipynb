{
 "cells": [
  {
   "cell_type": "code",
   "execution_count": 1,
   "metadata": {},
   "outputs": [],
   "source": [
    "#%pylab\n",
    "import os\n",
    "os.environ['PROJ_LIB'] = r''\n",
    "import pandas as pd\n",
    "import numpy as np\n",
    "import matplotlib.pyplot as plt\n",
    "from mpl_toolkits.basemap import Basemap\n",
    "import mpld3\n",
    "import mplcursors"
   ]
  },
  {
   "cell_type": "code",
   "execution_count": 2,
   "metadata": {},
   "outputs": [],
   "source": [
    "df = pd.read_csv(\"eventi_cities_2.csv\")\n",
    "df_cities = pd.read_csv(\"european_cities_us_standard.csv\")"
   ]
  },
  {
   "cell_type": "code",
   "execution_count": 3,
   "metadata": {},
   "outputs": [],
   "source": [
    "grouped = df.groupby(\"city\")"
   ]
  },
  {
   "cell_type": "code",
   "execution_count": 4,
   "metadata": {},
   "outputs": [],
   "source": [
    "country_list = []\n",
    "for name, group in grouped:\n",
    "    length = len(group)\n",
    "    number_allarms = group[group.LivelloAllarme == 2].shape[0]\n",
    "    if length > 5 and number_allarms > 0:\n",
    "        country_list.append((name, number_allarms/length))"
   ]
  },
  {
   "cell_type": "code",
   "execution_count": 5,
   "metadata": {},
   "outputs": [],
   "source": [
    "country_list.sort(key=lambda x:x[1], reverse=True)"
   ]
  },
  {
   "cell_type": "code",
   "execution_count": 6,
   "metadata": {},
   "outputs": [],
   "source": [
    "country_df = pd.DataFrame(country_list, columns =['City', 'Score'])"
   ]
  },
  {
   "cell_type": "code",
   "execution_count": 7,
   "metadata": {},
   "outputs": [],
   "source": [
    "new_df = pd.merge(country_df, df_cities[[\"European City\", \"Latitude\", \"Longitude\"]], left_on=\"City\", right_on=\"European City\", how=\"left\")"
   ]
  },
  {
   "cell_type": "code",
   "execution_count": 8,
   "metadata": {},
   "outputs": [],
   "source": [
    "new_df = new_df.sort_values('Score').drop_duplicates(subset=['City'])"
   ]
  },
  {
   "cell_type": "code",
   "execution_count": 9,
   "metadata": {},
   "outputs": [],
   "source": [
    "new_df[\"Score\"] = new_df[\"Score\"] * 300"
   ]
  },
  {
   "cell_type": "code",
   "execution_count": 10,
   "metadata": {},
   "outputs": [
    {
     "data": {
      "text/plain": [
       "<matplotlib.axes._subplots.AxesSubplot at 0x299600c07c0>"
      ]
     },
     "execution_count": 10,
     "metadata": {},
     "output_type": "execute_result"
    },
    {
     "data": {
      "image/png": "[encoded data removed]",
      "text/plain": [
       "<Figure size 432x288 with 1 Axes>"
      ]
     },
     "metadata": {
      "needs_background": "light"
     },
     "output_type": "display_data"
    }
   ],
   "source": [
    "new_df.sort_values(by=['Score'], ascending=False).head(10).plot.bar(x=\"City\",y=\"Score\")"
   ]
  },
  {
   "cell_type": "code",
   "execution_count": null,
   "metadata": {},
   "outputs": [],
   "source": [
    "fig = plt.figure(figsize=(24,24))\n",
    "m = Basemap(projection=\"mill\", llcrnrlat=35, urcrnrlat=55, llcrnrlon=5, urcrnrlon=20, resolution=\"c\")\n",
    "m.drawcoastlines()\n",
    "for i in range(len(new_df[\"Latitude\"])):\n",
    "    scatter = m.scatter(new_df[\"Longitude\"].iloc[i], new_df[\"Latitude\"].iloc[i], latlon=True, s=new_df[\"Score\"].iloc[i], label=f\"{new_df['City'].iloc[i]}, {new_df['Score'].iloc[i]}\")\n",
    "#labels = new_df[\"City\"]\n",
    "#tooltip = mpld3.plugins.PointLabelTooltip(scatter, labels=labels)\n",
    "#mpld3.plugins.connect(fig, tooltip)\n",
    "#lines = new_df[\"City\"]\n",
    "mplcursors.cursor(hover=True)\n",
    "#mpld3.show()\n",
    "plt.show()"
   ]
  },
  {
   "cell_type": "code",
   "execution_count": null,
   "metadata": {},
   "outputs": [],
   "source": []
  },
  {
   "cell_type": "code",
   "execution_count": null,
   "metadata": {},
   "outputs": [],
   "source": []
  }
 ],
 "metadata": {
  "kernelspec": {
   "display_name": "Python 3",
   "language": "python",
   "name": "python3"
  },
  "language_info": {
   "codemirror_mode": {
    "name": "ipython",
    "version": 3
   },
   "file_extension": ".py",
   "mimetype": "text/x-python",
   "name": "python",
   "nbconvert_exporter": "python",
   "pygments_lexer": "ipython3",
   "version": "3.8.5"
  }
 },
 "nbformat": 4,
 "nbformat_minor": 4
}
