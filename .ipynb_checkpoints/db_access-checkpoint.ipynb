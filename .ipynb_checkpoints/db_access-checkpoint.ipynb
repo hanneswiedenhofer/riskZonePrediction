{
 "cells": [
  {
   "cell_type": "markdown",
   "metadata": {},
   "source": [
    "# Imports"
   ]
  },
  {
   "cell_type": "code",
   "execution_count": 1,
   "metadata": {},
   "outputs": [],
   "source": [
    "import pandas as pd \n",
    "import sqlalchemy \n",
    "import os\n",
    "from sqlalchemy import inspect, select, func, MetaData\n",
    "from sqlalchemy.sql import text\n",
    "#from eralchemy import render_er\n",
    "from sqlalchemy.ext.declarative import declarative_base"
   ]
  },
  {
   "cell_type": "markdown",
   "metadata": {},
   "source": [
    "# Login"
   ]
  },
  {
   "cell_type": "code",
   "execution_count": 4,
   "metadata": {},
   "outputs": [],
   "source": [
    "password = \"\"\n",
    "# connect to the database \n",
    "db1 = sqlalchemy.create_engine(r\"\")\n",
    "db2 = sqlalchemy.create_engine(r\"\")"
   ]
  },
  {
   "cell_type": "markdown",
   "metadata": {},
   "source": [
    "# Test connection"
   ]
  },
  {
   "cell_type": "code",
   "execution_count": 9,
   "metadata": {},
   "outputs": [],
   "source": [
    "#run a query on the database, and retrieve the result as a Pandas data frame \n",
    "tbl = pd.read_sql(\"SELECT TOP(100) * FROM Eventi;\",db1) \n",
    "#print(tbl) "
   ]
  },
  {
   "cell_type": "code",
   "execution_count": 10,
   "metadata": {},
   "outputs": [
    {
     "name": "stdout",
     "output_type": "stream",
     "text": [
      "    IdEvento SN_Manuale SN_Gestito         DataInserimento     NomeCentralina  \\\n",
      "0   10773681          N          S 2019-05-02 00:01:50.900           CORN0279   \n",
      "1   10773682          N          S 2019-05-02 00:05:47.600           CAVI0208   \n",
      "2   10773683          S          S 2019-05-02 00:05:51.583           SAGG0105   \n",
      "3   10773684          N          S 2019-05-02 00:09:19.557           SPIN0115   \n",
      "4   10773685          N          S 2019-05-02 00:11:59.780  ifresidencecamper   \n",
      "..       ...        ...        ...                     ...                ...   \n",
      "95  10773776          S          S 2019-05-02 02:45:38.733           VERCT960   \n",
      "96  10773777          N          S 2019-05-02 02:45:42.823           AUTO0624   \n",
      "97  10773778          S          S 2019-05-02 02:45:48.330           AZZA0262   \n",
      "98  10773779          N          S 2019-05-02 02:47:36.883           DEMA0205   \n",
      "99  10773780          N          S 2019-05-02 02:51:52.323       IFBORGARELLO   \n",
      "\n",
      "    IdUtente            DataChiusura  IdCausaEvento  IdAzione  IdNota  \\\n",
      "0      155.0 2019-05-02 00:05:30.190              1       5.0       5   \n",
      "1      155.0 2019-05-02 00:06:41.830              1       5.0       5   \n",
      "2      155.0 2019-05-02 00:08:30.863              1       6.0       5   \n",
      "3      155.0 2019-05-02 00:10:09.983              1       1.0       5   \n",
      "4      136.0 2019-05-02 00:13:47.220              1       9.0       5   \n",
      "..       ...                     ...            ...       ...     ...   \n",
      "95     155.0 2019-05-02 02:48:45.187              1       1.0       5   \n",
      "96       NaN 2019-05-02 02:46:05.260              1       NaN       4   \n",
      "97       3.0 2019-05-02 02:48:41.910              1       3.0       5   \n",
      "98       3.0 2019-05-02 02:48:24.133              3      12.0   29065   \n",
      "99     136.0 2019-05-02 03:06:18.697              1       9.0  406661   \n",
      "\n",
      "    IdUtenteLast       DataPresaInCarico SN_Movimento  \n",
      "0            NaN 2019-05-02 00:01:59.133            S  \n",
      "1            NaN 2019-05-02 00:06:07.360         None  \n",
      "2            NaN                     NaT         None  \n",
      "3            NaN 2019-05-02 00:09:24.330         None  \n",
      "4            NaN 2019-05-02 00:12:15.520         None  \n",
      "..           ...                     ...          ...  \n",
      "95           NaN 2019-05-02 02:46:03.563         None  \n",
      "96           NaN                     NaT         None  \n",
      "97           NaN                     NaT         None  \n",
      "98           NaN 2019-05-02 02:47:41.283            S  \n",
      "99           NaN 2019-05-02 02:52:01.760         None  \n",
      "\n",
      "[100 rows x 13 columns]\n"
     ]
    }
   ],
   "source": [
    "print(tbl)"
   ]
  },
  {
   "cell_type": "code",
   "execution_count": 7,
   "metadata": {},
   "outputs": [],
   "source": [
    "tbl2 = pd.read_sql(\"SELECT TOP(100) * FROM Mezzi;\",db2) "
   ]
  },
  {
   "cell_type": "code",
   "execution_count": 8,
   "metadata": {},
   "outputs": [
    {
     "name": "stdout",
     "output_type": "stream",
     "text": [
      "                                      Id         IdMptx  IdCentralina  \\\n",
      "0   bd1d9539-41e9-e611-80bc-0050569357e4  RIMO_FITT1928           NaN   \n",
      "1   a55926aa-43e9-e611-80bc-0050569357e4  RIMO_FITT1929           NaN   \n",
      "2   2cd35dbc-43e9-e611-80bc-0050569357e4  RIMO_FITT1930           NaN   \n",
      "3   db5084ce-43e9-e611-80bc-0050569357e4  RIMO_FITT1931           NaN   \n",
      "4   f9184b03-44e9-e611-80bc-0050569357e4  RIMO_FITT1932           NaN   \n",
      "..                                   ...            ...           ...   \n",
      "95  0ac9e487-14ee-e611-80bc-0050569357e4       CORN0278       37837.0   \n",
      "96  13075d84-1bee-e611-80bc-0050569357e4     EPMUTTI566       44062.0   \n",
      "97  2f3d8c21-1cee-e611-80bc-0050569357e4    EPMUTTIS255       44070.0   \n",
      "98  150ce210-a4ee-e611-80bc-0050569357e4     EPMUTTI573       44063.0   \n",
      "99  4ceed136-aaee-e611-80bc-0050569357e4     ELMOLLO001       44842.0   \n",
      "\n",
      "               IMEI Targa   VIN Descrizione  IdCategoriaMezzo  EnumMezzoStato  \\\n",
      "0              None  None  None        None                 3               0   \n",
      "1              None  None  None        None                 3               0   \n",
      "2              None  None  None        None                 3               0   \n",
      "3              None  None  None        None                 3               0   \n",
      "4              None  None  None        None                 3               0   \n",
      "..              ...   ...   ...         ...               ...             ...   \n",
      "95  354888043827823  None  None        None                 1               0   \n",
      "96             None  None  None        None                 8               4   \n",
      "97  352108075855549  None  None        None                 8               0   \n",
      "98  352108075855168  None  None        None                 8               0   \n",
      "99             None  None  None        None               101               4   \n",
      "\n",
      "    EnumCentralinaBrand  ...  NCelleFrigo BoolCarburante  \\\n",
      "0                     0  ...            0              0   \n",
      "1                     0  ...            0              0   \n",
      "2                     0  ...            0              0   \n",
      "3                     0  ...            0              0   \n",
      "4                     0  ...            0              0   \n",
      "..                  ...  ...          ...            ...   \n",
      "95                    2  ...            0              0   \n",
      "96                   11  ...            0              0   \n",
      "97                   11  ...            0              0   \n",
      "98                   11  ...            0              0   \n",
      "99                    7  ...            0              0   \n",
      "\n",
      "   SensoriDigitaliMaschera SensoriAnalogiciMaschera BoolFms  BoolDisplay  \\\n",
      "0                      NaN                      NaN       0            0   \n",
      "1                      NaN                      NaN       0            0   \n",
      "2                      NaN                      NaN       0            0   \n",
      "3                      NaN                      NaN       0            0   \n",
      "4                      NaN                      NaN       0            0   \n",
      "..                     ...                      ...     ...          ...   \n",
      "95                     NaN                      NaN       0            0   \n",
      "96                     1.0                      0.0       1            0   \n",
      "97                     1.0                      0.0       0            0   \n",
      "98                     1.0                      0.0       1            0   \n",
      "99                     NaN                      NaN       0            0   \n",
      "\n",
      "    FirmwareVersion  SerialeMultimedia  BoolPannelliSolari  BoolFittizio  \n",
      "0              None               None                None             1  \n",
      "1              None               None                None             1  \n",
      "2              None               None                None             1  \n",
      "3              None               None                None             1  \n",
      "4              None               None                None             1  \n",
      "..              ...                ...                 ...           ...  \n",
      "95             None        201504-7354                None             0  \n",
      "96            1401N        201612-9197                None             0  \n",
      "97            1401N        201612-9195                None             0  \n",
      "98            1401N        201612-9203                None             0  \n",
      "99             None               None                None             0  \n",
      "\n",
      "[100 rows x 30 columns]\n"
     ]
    }
   ],
   "source": [
    "print(tbl2)"
   ]
  },
  {
   "cell_type": "markdown",
   "metadata": {},
   "source": [
    "# Get DB Structure"
   ]
  },
  {
   "cell_type": "code",
   "execution_count": null,
   "metadata": {},
   "outputs": [],
   "source": [
    "def getTablesWithColumns(db):\n",
    "    inspector = inspect(db)\n",
    "    schemas = inspector.get_schema_names()\n",
    "    for table_name in inspector.get_table_names():\n",
    "        print(\"Table: \" + table_name)\n",
    "        for column in inspector.get_columns(table_name):\n",
    "            print(\"%s\" % column['name'])\n",
    "        print(\"\\n\")"
   ]
  },
  {
   "cell_type": "markdown",
   "metadata": {},
   "source": [
    "## DB1"
   ]
  },
  {
   "cell_type": "code",
   "execution_count": null,
   "metadata": {},
   "outputs": [],
   "source": [
    "getTablesWithColumns(db1)"
   ]
  },
  {
   "cell_type": "markdown",
   "metadata": {},
   "source": [
    "## DB2"
   ]
  },
  {
   "cell_type": "code",
   "execution_count": null,
   "metadata": {},
   "outputs": [],
   "source": [
    "getTablesWithColumns(db2)"
   ]
  },
  {
   "cell_type": "markdown",
   "metadata": {},
   "source": [
    "## Count rows per table"
   ]
  },
  {
   "cell_type": "code",
   "execution_count": null,
   "metadata": {},
   "outputs": [],
   "source": [
    "render_er(r\"mssql+pymssql:\", 'db1.pdf')"
   ]
  },
  {
   "cell_type": "code",
   "execution_count": null,
   "metadata": {},
   "outputs": [],
   "source": [
    "render_er(r\"mssql+pymssql:\", 'db2.pdf')"
   ]
  },
  {
   "cell_type": "markdown",
   "metadata": {},
   "source": [
    "## Enums"
   ]
  },
  {
   "cell_type": "code",
   "execution_count": null,
   "metadata": {},
   "outputs": [],
   "source": [
    "pd.read_sql(\"SELECT DISTINCT CausaEvento FROM T_CauseEvento;\",dbcentrale) "
   ]
  },
  {
   "cell_type": "code",
   "execution_count": null,
   "metadata": {},
   "outputs": [],
   "source": [
    "pd.read_sql(\"SELECT DISTINCT Azione FROM T_Azioni;\",dbcentrale) "
   ]
  },
  {
   "cell_type": "code",
   "execution_count": null,
   "metadata": {},
   "outputs": [],
   "source": [
    "pd.read_sql(\"SELECT DISTINCT TOP(100) IDMessage FROM AlarmFlatArchivio;\",dbcentrale) "
   ]
  },
  {
   "cell_type": "code",
   "execution_count": 16,
   "metadata": {},
   "outputs": [
    {
     "data": {
      "text/html": [
       "<div>\n",
       "<style scoped>\n",
       "    .dataframe tbody tr th:only-of-type {\n",
       "        vertical-align: middle;\n",
       "    }\n",
       "\n",
       "    .dataframe tbody tr th {\n",
       "        vertical-align: top;\n",
       "    }\n",
       "\n",
       "    .dataframe thead th {\n",
       "        text-align: right;\n",
       "    }\n",
       "</style>\n",
       "<table border=\"1\" class=\"dataframe\">\n",
       "  <thead>\n",
       "    <tr style=\"text-align: right;\">\n",
       "      <th></th>\n",
       "      <th>Nota</th>\n",
       "    </tr>\n",
       "  </thead>\n",
       "  <tbody>\n",
       "  </tbody>\n",
       "</table>\n",
       "</div>"
      ],
      "text/plain": [
       "Empty DataFrame\n",
       "Columns: [Nota]\n",
       "Index: []"
      ]
     },
     "execution_count": 16,
     "metadata": {},
     "output_type": "execute_result"
    }
   ],
   "source": [
    "pd.read_sql(\"SELECT Nota FROM EventiGestiti e, Note n WHERE IdCausaEvento = 0 AND e.IdNota = n.IdNota AND Nota != NULL;\",dbcentrale) "
   ]
  },
  {
   "cell_type": "code",
   "execution_count": 15,
   "metadata": {},
   "outputs": [
    {
     "data": {
      "text/html": [
       "<div>\n",
       "<style scoped>\n",
       "    .dataframe tbody tr th:only-of-type {\n",
       "        vertical-align: middle;\n",
       "    }\n",
       "\n",
       "    .dataframe tbody tr th {\n",
       "        vertical-align: top;\n",
       "    }\n",
       "\n",
       "    .dataframe thead th {\n",
       "        text-align: right;\n",
       "    }\n",
       "</style>\n",
       "<table border=\"1\" class=\"dataframe\">\n",
       "  <thead>\n",
       "    <tr style=\"text-align: right;\">\n",
       "      <th></th>\n",
       "      <th>IdEvento</th>\n",
       "      <th>SN_Manuale</th>\n",
       "      <th>SN_Gestito</th>\n",
       "      <th>DataInserimento</th>\n",
       "      <th>NomeCentralina</th>\n",
       "      <th>IdUtente</th>\n",
       "      <th>DataChiusura</th>\n",
       "      <th>IdCausaEvento</th>\n",
       "      <th>IdAzione</th>\n",
       "      <th>IdNota</th>\n",
       "      <th>IdUtenteLast</th>\n",
       "      <th>DataPresaInCarico</th>\n",
       "      <th>SN_Movimento</th>\n",
       "      <th>IdNota</th>\n",
       "      <th>SN_NotaAuto</th>\n",
       "      <th>Importanza</th>\n",
       "      <th>Nota</th>\n",
       "    </tr>\n",
       "  </thead>\n",
       "  <tbody>\n",
       "  </tbody>\n",
       "</table>\n",
       "</div>"
      ],
      "text/plain": [
       "Empty DataFrame\n",
       "Columns: [IdEvento, SN_Manuale, SN_Gestito, DataInserimento, NomeCentralina, IdUtente, DataChiusura, IdCausaEvento, IdAzione, IdNota, IdUtenteLast, DataPresaInCarico, SN_Movimento, IdNota, SN_NotaAuto, Importanza, Nota]\n",
       "Index: []"
      ]
     },
     "execution_count": 15,
     "metadata": {},
     "output_type": "execute_result"
    }
   ],
   "source": [
    "pd.read_sql(\"SELECT TOP(100) * FROM EventiGestiti e, Note n WHERE e.IdNota=n.IdNota And Nota != NULL;\",dbcentrale) "
   ]
  },
  {
   "cell_type": "code",
   "execution_count": 16,
   "metadata": {},
   "outputs": [
    {
     "data": {
      "text/html": [
       "<div>\n",
       "<style scoped>\n",
       "    .dataframe tbody tr th:only-of-type {\n",
       "        vertical-align: middle;\n",
       "    }\n",
       "\n",
       "    .dataframe tbody tr th {\n",
       "        vertical-align: top;\n",
       "    }\n",
       "\n",
       "    .dataframe thead th {\n",
       "        text-align: right;\n",
       "    }\n",
       "</style>\n",
       "<table border=\"1\" class=\"dataframe\">\n",
       "  <thead>\n",
       "    <tr style=\"text-align: right;\">\n",
       "      <th></th>\n",
       "      <th>IdNota</th>\n",
       "      <th>SN_NotaAuto</th>\n",
       "      <th>Importanza</th>\n",
       "      <th>Nota</th>\n",
       "    </tr>\n",
       "  </thead>\n",
       "  <tbody>\n",
       "  </tbody>\n",
       "</table>\n",
       "</div>"
      ],
      "text/plain": [
       "Empty DataFrame\n",
       "Columns: [IdNota, SN_NotaAuto, Importanza, Nota]\n",
       "Index: []"
      ]
     },
     "execution_count": 16,
     "metadata": {},
     "output_type": "execute_result"
    }
   ],
   "source": [
    "pd.read_sql(\"SELECT TOP(100) * FROM Note WHERE Nota != NULL;\",dbcentrale) "
   ]
  },
  {
   "cell_type": "code",
   "execution_count": 22,
   "metadata": {},
   "outputs": [
    {
     "data": {
      "text/html": [
       "<div>\n",
       "<style scoped>\n",
       "    .dataframe tbody tr th:only-of-type {\n",
       "        vertical-align: middle;\n",
       "    }\n",
       "\n",
       "    .dataframe tbody tr th {\n",
       "        vertical-align: top;\n",
       "    }\n",
       "\n",
       "    .dataframe thead th {\n",
       "        text-align: right;\n",
       "    }\n",
       "</style>\n",
       "<table border=\"1\" class=\"dataframe\">\n",
       "  <thead>\n",
       "    <tr style=\"text-align: right;\">\n",
       "      <th></th>\n",
       "      <th>IdEvento</th>\n",
       "      <th>SN_Manuale</th>\n",
       "      <th>SN_Gestito</th>\n",
       "      <th>DataInserimento</th>\n",
       "      <th>NomeCentralina</th>\n",
       "      <th>IdUtente</th>\n",
       "      <th>DataChiusura</th>\n",
       "      <th>IdCausaEvento</th>\n",
       "      <th>IdAzione</th>\n",
       "      <th>IdNota</th>\n",
       "      <th>IdUtenteLast</th>\n",
       "      <th>DataPresaInCarico</th>\n",
       "      <th>SN_Movimento</th>\n",
       "    </tr>\n",
       "  </thead>\n",
       "  <tbody>\n",
       "    <tr>\n",
       "      <th>0</th>\n",
       "      <td>1</td>\n",
       "      <td>N</td>\n",
       "      <td>S</td>\n",
       "      <td>2009-06-29 09:30:52.583</td>\n",
       "      <td>TRAP8002</td>\n",
       "      <td>15</td>\n",
       "      <td>2009-06-29 09:40:00</td>\n",
       "      <td>1</td>\n",
       "      <td>7</td>\n",
       "      <td>5</td>\n",
       "      <td>None</td>\n",
       "      <td>None</td>\n",
       "      <td>None</td>\n",
       "    </tr>\n",
       "    <tr>\n",
       "      <th>1</th>\n",
       "      <td>2</td>\n",
       "      <td>N</td>\n",
       "      <td>S</td>\n",
       "      <td>2009-06-29 09:30:55.543</td>\n",
       "      <td>VERCR072</td>\n",
       "      <td>6</td>\n",
       "      <td>2009-06-29 09:37:00</td>\n",
       "      <td>1</td>\n",
       "      <td>2</td>\n",
       "      <td>151</td>\n",
       "      <td>None</td>\n",
       "      <td>None</td>\n",
       "      <td>None</td>\n",
       "    </tr>\n",
       "    <tr>\n",
       "      <th>2</th>\n",
       "      <td>3</td>\n",
       "      <td>N</td>\n",
       "      <td>S</td>\n",
       "      <td>2009-06-29 09:31:54.990</td>\n",
       "      <td>DECE0200</td>\n",
       "      <td>6</td>\n",
       "      <td>2009-06-29 09:53:00</td>\n",
       "      <td>1</td>\n",
       "      <td>5</td>\n",
       "      <td>160</td>\n",
       "      <td>None</td>\n",
       "      <td>None</td>\n",
       "      <td>None</td>\n",
       "    </tr>\n",
       "    <tr>\n",
       "      <th>3</th>\n",
       "      <td>4</td>\n",
       "      <td>N</td>\n",
       "      <td>S</td>\n",
       "      <td>2009-06-29 09:32:07.043</td>\n",
       "      <td>PARISI8088</td>\n",
       "      <td>15</td>\n",
       "      <td>2009-06-29 09:37:00</td>\n",
       "      <td>1</td>\n",
       "      <td>5</td>\n",
       "      <td>5</td>\n",
       "      <td>None</td>\n",
       "      <td>None</td>\n",
       "      <td>None</td>\n",
       "    </tr>\n",
       "    <tr>\n",
       "      <th>4</th>\n",
       "      <td>5</td>\n",
       "      <td>N</td>\n",
       "      <td>S</td>\n",
       "      <td>2009-06-29 09:32:42.493</td>\n",
       "      <td>TABA0154</td>\n",
       "      <td>6</td>\n",
       "      <td>2009-06-29 09:56:00</td>\n",
       "      <td>1</td>\n",
       "      <td>1</td>\n",
       "      <td>5</td>\n",
       "      <td>None</td>\n",
       "      <td>None</td>\n",
       "      <td>None</td>\n",
       "    </tr>\n",
       "    <tr>\n",
       "      <th>...</th>\n",
       "      <td>...</td>\n",
       "      <td>...</td>\n",
       "      <td>...</td>\n",
       "      <td>...</td>\n",
       "      <td>...</td>\n",
       "      <td>...</td>\n",
       "      <td>...</td>\n",
       "      <td>...</td>\n",
       "      <td>...</td>\n",
       "      <td>...</td>\n",
       "      <td>...</td>\n",
       "      <td>...</td>\n",
       "      <td>...</td>\n",
       "    </tr>\n",
       "    <tr>\n",
       "      <th>95</th>\n",
       "      <td>100</td>\n",
       "      <td>N</td>\n",
       "      <td>S</td>\n",
       "      <td>2009-06-29 10:05:32.983</td>\n",
       "      <td>TESE0111</td>\n",
       "      <td>21</td>\n",
       "      <td>2009-06-29 10:24:00</td>\n",
       "      <td>1</td>\n",
       "      <td>2</td>\n",
       "      <td>5</td>\n",
       "      <td>None</td>\n",
       "      <td>None</td>\n",
       "      <td>None</td>\n",
       "    </tr>\n",
       "    <tr>\n",
       "      <th>96</th>\n",
       "      <td>101</td>\n",
       "      <td>N</td>\n",
       "      <td>S</td>\n",
       "      <td>2009-06-29 10:06:08.317</td>\n",
       "      <td>NELM0106</td>\n",
       "      <td>21</td>\n",
       "      <td>2009-06-29 10:07:00</td>\n",
       "      <td>1</td>\n",
       "      <td>2</td>\n",
       "      <td>5</td>\n",
       "      <td>None</td>\n",
       "      <td>None</td>\n",
       "      <td>None</td>\n",
       "    </tr>\n",
       "    <tr>\n",
       "      <th>97</th>\n",
       "      <td>102</td>\n",
       "      <td>N</td>\n",
       "      <td>S</td>\n",
       "      <td>2009-06-29 10:06:20.353</td>\n",
       "      <td>TIET0275</td>\n",
       "      <td>6</td>\n",
       "      <td>2009-06-29 10:19:00</td>\n",
       "      <td>1</td>\n",
       "      <td>5</td>\n",
       "      <td>5</td>\n",
       "      <td>None</td>\n",
       "      <td>None</td>\n",
       "      <td>None</td>\n",
       "    </tr>\n",
       "    <tr>\n",
       "      <th>98</th>\n",
       "      <td>103</td>\n",
       "      <td>N</td>\n",
       "      <td>S</td>\n",
       "      <td>2009-06-29 10:06:32.293</td>\n",
       "      <td>TIET0106</td>\n",
       "      <td>6</td>\n",
       "      <td>2009-06-29 10:11:00</td>\n",
       "      <td>1</td>\n",
       "      <td>5</td>\n",
       "      <td>5</td>\n",
       "      <td>None</td>\n",
       "      <td>None</td>\n",
       "      <td>None</td>\n",
       "    </tr>\n",
       "    <tr>\n",
       "      <th>99</th>\n",
       "      <td>104</td>\n",
       "      <td>N</td>\n",
       "      <td>S</td>\n",
       "      <td>2009-06-29 10:06:32.357</td>\n",
       "      <td>VERCR112</td>\n",
       "      <td>6</td>\n",
       "      <td>2009-06-29 10:11:00</td>\n",
       "      <td>1</td>\n",
       "      <td>5</td>\n",
       "      <td>5</td>\n",
       "      <td>None</td>\n",
       "      <td>None</td>\n",
       "      <td>None</td>\n",
       "    </tr>\n",
       "  </tbody>\n",
       "</table>\n",
       "<p>100 rows × 13 columns</p>\n",
       "</div>"
      ],
      "text/plain": [
       "    IdEvento SN_Manuale SN_Gestito         DataInserimento NomeCentralina  \\\n",
       "0          1          N          S 2009-06-29 09:30:52.583       TRAP8002   \n",
       "1          2          N          S 2009-06-29 09:30:55.543       VERCR072   \n",
       "2          3          N          S 2009-06-29 09:31:54.990       DECE0200   \n",
       "3          4          N          S 2009-06-29 09:32:07.043     PARISI8088   \n",
       "4          5          N          S 2009-06-29 09:32:42.493       TABA0154   \n",
       "..       ...        ...        ...                     ...            ...   \n",
       "95       100          N          S 2009-06-29 10:05:32.983       TESE0111   \n",
       "96       101          N          S 2009-06-29 10:06:08.317       NELM0106   \n",
       "97       102          N          S 2009-06-29 10:06:20.353       TIET0275   \n",
       "98       103          N          S 2009-06-29 10:06:32.293       TIET0106   \n",
       "99       104          N          S 2009-06-29 10:06:32.357       VERCR112   \n",
       "\n",
       "    IdUtente        DataChiusura  IdCausaEvento  IdAzione  IdNota  \\\n",
       "0         15 2009-06-29 09:40:00              1         7       5   \n",
       "1          6 2009-06-29 09:37:00              1         2     151   \n",
       "2          6 2009-06-29 09:53:00              1         5     160   \n",
       "3         15 2009-06-29 09:37:00              1         5       5   \n",
       "4          6 2009-06-29 09:56:00              1         1       5   \n",
       "..       ...                 ...            ...       ...     ...   \n",
       "95        21 2009-06-29 10:24:00              1         2       5   \n",
       "96        21 2009-06-29 10:07:00              1         2       5   \n",
       "97         6 2009-06-29 10:19:00              1         5       5   \n",
       "98         6 2009-06-29 10:11:00              1         5       5   \n",
       "99         6 2009-06-29 10:11:00              1         5       5   \n",
       "\n",
       "   IdUtenteLast DataPresaInCarico SN_Movimento  \n",
       "0          None              None         None  \n",
       "1          None              None         None  \n",
       "2          None              None         None  \n",
       "3          None              None         None  \n",
       "4          None              None         None  \n",
       "..          ...               ...          ...  \n",
       "95         None              None         None  \n",
       "96         None              None         None  \n",
       "97         None              None         None  \n",
       "98         None              None         None  \n",
       "99         None              None         None  \n",
       "\n",
       "[100 rows x 13 columns]"
      ]
     },
     "execution_count": 22,
     "metadata": {},
     "output_type": "execute_result"
    }
   ],
   "source": [
    "pd.read_sql(\"SELECT TOP(100) * FROM EventiGestiti WHERE IdCausaEvento = 1;\",dbcentrale) "
   ]
  },
  {
   "cell_type": "code",
   "execution_count": null,
   "metadata": {},
   "outputs": [],
   "source": [
    "pd.read_sql(\"SELECT * FROM Eventi\", dbcentrale).to_csv(\"eventi.csv\")"
   ]
  },
  {
   "cell_type": "code",
   "execution_count": null,
   "metadata": {},
   "outputs": [],
   "source": [
    "pd.read_sql(\"SELECT * FROM EventiGestiti\", dbcentrale).to_csv(\"eventi_gestiti.csv\")"
   ]
  }
 ],
 "metadata": {
  "kernelspec": {
   "display_name": "Python 3",
   "language": "python",
   "name": "python3"
  },
  "language_info": {
   "codemirror_mode": {
    "name": "ipython",
    "version": 3
   },
   "file_extension": ".py",
   "mimetype": "text/x-python",
   "name": "python",
   "nbconvert_exporter": "python",
   "pygments_lexer": "ipython3",
   "version": "3.8.5"
  }
 },
 "nbformat": 4,
 "nbformat_minor": 4
}
